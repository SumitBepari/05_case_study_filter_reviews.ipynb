{
 "cells": [
  {
   "cell_type": "code",
   "execution_count": 1,
   "metadata": {},
   "outputs": [],
   "source": [
    "import pandas as pd\n",
    "import matplotlib.pyplot as plt"
   ]
  },
  {
   "cell_type": "code",
   "execution_count": 3,
   "metadata": {},
   "outputs": [],
   "source": [
    "businesses = pd.read_csv('business_list.csv')"
   ]
  },
  {
   "cell_type": "code",
   "execution_count": 4,
   "metadata": {},
   "outputs": [
    {
     "data": {
      "text/html": [
       "<div>\n",
       "<style scoped>\n",
       "    .dataframe tbody tr th:only-of-type {\n",
       "        vertical-align: middle;\n",
       "    }\n",
       "\n",
       "    .dataframe tbody tr th {\n",
       "        vertical-align: top;\n",
       "    }\n",
       "\n",
       "    .dataframe thead th {\n",
       "        text-align: right;\n",
       "    }\n",
       "</style>\n",
       "<table border=\"1\" class=\"dataframe\">\n",
       "  <thead>\n",
       "    <tr style=\"text-align: right;\">\n",
       "      <th></th>\n",
       "      <th>Unnamed: 0</th>\n",
       "      <th>business_id</th>\n",
       "      <th>review_count</th>\n",
       "      <th>stars</th>\n",
       "      <th>state</th>\n",
       "    </tr>\n",
       "  </thead>\n",
       "  <tbody>\n",
       "    <tr>\n",
       "      <th>0</th>\n",
       "      <td>35</td>\n",
       "      <td>BvYU3jvGd0TJ7IyZdfiN2Q</td>\n",
       "      <td>16</td>\n",
       "      <td>3.5</td>\n",
       "      <td>NC</td>\n",
       "    </tr>\n",
       "    <tr>\n",
       "      <th>1</th>\n",
       "      <td>83</td>\n",
       "      <td>RFbMVekR8lU9tPJ8sWrwHg</td>\n",
       "      <td>18</td>\n",
       "      <td>4.0</td>\n",
       "      <td>ON</td>\n",
       "    </tr>\n",
       "    <tr>\n",
       "      <th>2</th>\n",
       "      <td>260</td>\n",
       "      <td>tWjfgVtTD5n01Cq9dFWGsA</td>\n",
       "      <td>185</td>\n",
       "      <td>3.5</td>\n",
       "      <td>AB</td>\n",
       "    </tr>\n",
       "    <tr>\n",
       "      <th>3</th>\n",
       "      <td>445</td>\n",
       "      <td>8ELlbjnXfZAw4KbQRP3-EQ</td>\n",
       "      <td>8</td>\n",
       "      <td>4.0</td>\n",
       "      <td>QC</td>\n",
       "    </tr>\n",
       "    <tr>\n",
       "      <th>4</th>\n",
       "      <td>813</td>\n",
       "      <td>sMzNLdhJZGzYirIWt-fMAg</td>\n",
       "      <td>752</td>\n",
       "      <td>4.0</td>\n",
       "      <td>PA</td>\n",
       "    </tr>\n",
       "  </tbody>\n",
       "</table>\n",
       "</div>"
      ],
      "text/plain": [
       "   Unnamed: 0             business_id  review_count  stars state\n",
       "0          35  BvYU3jvGd0TJ7IyZdfiN2Q            16    3.5    NC\n",
       "1          83  RFbMVekR8lU9tPJ8sWrwHg            18    4.0    ON\n",
       "2         260  tWjfgVtTD5n01Cq9dFWGsA           185    3.5    AB\n",
       "3         445  8ELlbjnXfZAw4KbQRP3-EQ             8    4.0    QC\n",
       "4         813  sMzNLdhJZGzYirIWt-fMAg           752    4.0    PA"
      ]
     },
     "execution_count": 4,
     "metadata": {},
     "output_type": "execute_result"
    }
   ],
   "source": [
    "businesses.head()"
   ]
  },
  {
   "cell_type": "code",
   "execution_count": 5,
   "metadata": {},
   "outputs": [
    {
     "name": "stdout",
     "output_type": "stream",
     "text": [
      "['BvYU3jvGd0TJ7IyZdfiN2Q' 'RFbMVekR8lU9tPJ8sWrwHg'\n",
      " 'tWjfgVtTD5n01Cq9dFWGsA' '8ELlbjnXfZAw4KbQRP3-EQ'\n",
      " 'sMzNLdhJZGzYirIWt-fMAg']\n"
     ]
    }
   ],
   "source": [
    "business_ids = businesses['business_id'].values\n",
    "print(business_ids[:5])"
   ]
  },
  {
   "cell_type": "code",
   "execution_count": 6,
   "metadata": {},
   "outputs": [],
   "source": [
    "read_review = pd.read_json('review.json', lines=True, chunksize=100000)"
   ]
  },
  {
   "cell_type": "code",
   "execution_count": 8,
   "metadata": {},
   "outputs": [],
   "source": [
    "reviews = [review.loc[review['business_id'].apply(lambda x: x in business_ids)] for review in read_review]"
   ]
  },
  {
   "cell_type": "code",
   "execution_count": 9,
   "metadata": {},
   "outputs": [
    {
     "data": {
      "text/plain": [
       "list"
      ]
     },
     "execution_count": 9,
     "metadata": {},
     "output_type": "execute_result"
    }
   ],
   "source": [
    "type(reviews)"
   ]
  },
  {
   "cell_type": "code",
   "execution_count": 10,
   "metadata": {},
   "outputs": [
    {
     "data": {
      "text/plain": [
       "67"
      ]
     },
     "execution_count": 10,
     "metadata": {},
     "output_type": "execute_result"
    }
   ],
   "source": [
    "len(reviews)"
   ]
  },
  {
   "cell_type": "code",
   "execution_count": 11,
   "metadata": {},
   "outputs": [],
   "source": [
    "reviews = pd.concat(reviews)"
   ]
  },
  {
   "cell_type": "code",
   "execution_count": 12,
   "metadata": {},
   "outputs": [
    {
     "data": {
      "text/plain": [
       "(102545, 9)"
      ]
     },
     "execution_count": 12,
     "metadata": {},
     "output_type": "execute_result"
    }
   ],
   "source": [
    "reviews.shape"
   ]
  },
  {
   "cell_type": "code",
   "execution_count": 13,
   "metadata": {},
   "outputs": [
    {
     "data": {
      "text/html": [
       "<div>\n",
       "<style scoped>\n",
       "    .dataframe tbody tr th:only-of-type {\n",
       "        vertical-align: middle;\n",
       "    }\n",
       "\n",
       "    .dataframe tbody tr th {\n",
       "        vertical-align: top;\n",
       "    }\n",
       "\n",
       "    .dataframe thead th {\n",
       "        text-align: right;\n",
       "    }\n",
       "</style>\n",
       "<table border=\"1\" class=\"dataframe\">\n",
       "  <thead>\n",
       "    <tr style=\"text-align: right;\">\n",
       "      <th></th>\n",
       "      <th>business_id</th>\n",
       "      <th>cool</th>\n",
       "      <th>date</th>\n",
       "      <th>funny</th>\n",
       "      <th>review_id</th>\n",
       "      <th>stars</th>\n",
       "      <th>text</th>\n",
       "      <th>useful</th>\n",
       "      <th>user_id</th>\n",
       "    </tr>\n",
       "  </thead>\n",
       "  <tbody>\n",
       "    <tr>\n",
       "      <th>34</th>\n",
       "      <td>YSUcHqlKMPHHJ_cTrqtNrA</td>\n",
       "      <td>0</td>\n",
       "      <td>2017-12-29 13:55:19</td>\n",
       "      <td>0</td>\n",
       "      <td>E6B-2U2sGG3xgmnNWZAEew</td>\n",
       "      <td>1</td>\n",
       "      <td>Came here on a Thursday night at 6:30 p.m. My ...</td>\n",
       "      <td>0</td>\n",
       "      <td>DbccYu3OppWKl21OanZnTg</td>\n",
       "    </tr>\n",
       "    <tr>\n",
       "      <th>36</th>\n",
       "      <td>sMzNLdhJZGzYirIWt-fMAg</td>\n",
       "      <td>0</td>\n",
       "      <td>2015-06-21 00:59:14</td>\n",
       "      <td>0</td>\n",
       "      <td>RLbWoIri29BcQ8yjzsvQLQ</td>\n",
       "      <td>5</td>\n",
       "      <td>This place epitomizes the rumored transformati...</td>\n",
       "      <td>0</td>\n",
       "      <td>_o740mSNRhMNYuPjSJoPLg</td>\n",
       "    </tr>\n",
       "    <tr>\n",
       "      <th>88</th>\n",
       "      <td>EgwGTDZ705TwudPJwAY0yQ</td>\n",
       "      <td>0</td>\n",
       "      <td>2011-01-09 00:07:16</td>\n",
       "      <td>0</td>\n",
       "      <td>W6VRRz7mVGZLsidyHelHwg</td>\n",
       "      <td>5</td>\n",
       "      <td>This place is quite possibly my favorite resta...</td>\n",
       "      <td>2</td>\n",
       "      <td>To4ATBBNlnC5gzj0dwXfuA</td>\n",
       "    </tr>\n",
       "    <tr>\n",
       "      <th>109</th>\n",
       "      <td>r5PLDU-4mSbde5XekTXSCA</td>\n",
       "      <td>0</td>\n",
       "      <td>2013-01-27 17:54:54</td>\n",
       "      <td>0</td>\n",
       "      <td>lDJIaF4eYRF4F7g6Zb9euw</td>\n",
       "      <td>4</td>\n",
       "      <td>I used to work food service and my manager at ...</td>\n",
       "      <td>2</td>\n",
       "      <td>lb0QUR5bc4O-Am4hNq9ZGg</td>\n",
       "    </tr>\n",
       "    <tr>\n",
       "      <th>127</th>\n",
       "      <td>JN6287XepTV2wOiwnq5joA</td>\n",
       "      <td>0</td>\n",
       "      <td>2011-02-13 16:59:31</td>\n",
       "      <td>0</td>\n",
       "      <td>miAbIuIln8YfLoo6rf3MyQ</td>\n",
       "      <td>3</td>\n",
       "      <td>Visited this restaurant after a 3 hour drive t...</td>\n",
       "      <td>0</td>\n",
       "      <td>7-Wb8rDEymidPPfShLX3Yg</td>\n",
       "    </tr>\n",
       "  </tbody>\n",
       "</table>\n",
       "</div>"
      ],
      "text/plain": [
       "                business_id  cool                date  funny  \\\n",
       "34   YSUcHqlKMPHHJ_cTrqtNrA     0 2017-12-29 13:55:19      0   \n",
       "36   sMzNLdhJZGzYirIWt-fMAg     0 2015-06-21 00:59:14      0   \n",
       "88   EgwGTDZ705TwudPJwAY0yQ     0 2011-01-09 00:07:16      0   \n",
       "109  r5PLDU-4mSbde5XekTXSCA     0 2013-01-27 17:54:54      0   \n",
       "127  JN6287XepTV2wOiwnq5joA     0 2011-02-13 16:59:31      0   \n",
       "\n",
       "                  review_id  stars  \\\n",
       "34   E6B-2U2sGG3xgmnNWZAEew      1   \n",
       "36   RLbWoIri29BcQ8yjzsvQLQ      5   \n",
       "88   W6VRRz7mVGZLsidyHelHwg      5   \n",
       "109  lDJIaF4eYRF4F7g6Zb9euw      4   \n",
       "127  miAbIuIln8YfLoo6rf3MyQ      3   \n",
       "\n",
       "                                                  text  useful  \\\n",
       "34   Came here on a Thursday night at 6:30 p.m. My ...       0   \n",
       "36   This place epitomizes the rumored transformati...       0   \n",
       "88   This place is quite possibly my favorite resta...       2   \n",
       "109  I used to work food service and my manager at ...       2   \n",
       "127  Visited this restaurant after a 3 hour drive t...       0   \n",
       "\n",
       "                    user_id  \n",
       "34   DbccYu3OppWKl21OanZnTg  \n",
       "36   _o740mSNRhMNYuPjSJoPLg  \n",
       "88   To4ATBBNlnC5gzj0dwXfuA  \n",
       "109  lb0QUR5bc4O-Am4hNq9ZGg  \n",
       "127  7-Wb8rDEymidPPfShLX3Yg  "
      ]
     },
     "execution_count": 13,
     "metadata": {},
     "output_type": "execute_result"
    }
   ],
   "source": [
    "reviews.head()"
   ]
  },
  {
   "cell_type": "code",
   "execution_count": 14,
   "metadata": {},
   "outputs": [],
   "source": [
    "reviews.to_csv('reviews_filtered.csv', index=False)"
   ]
  },
  {
   "cell_type": "code",
   "execution_count": null,
   "metadata": {},
   "outputs": [],
   "source": []
  }
 ],
 "metadata": {
  "kernelspec": {
   "display_name": "Python 3",
   "language": "python",
   "name": "python3"
  },
  "language_info": {
   "codemirror_mode": {
    "name": "ipython",
    "version": 3
   },
   "file_extension": ".py",
   "mimetype": "text/x-python",
   "name": "python",
   "nbconvert_exporter": "python",
   "pygments_lexer": "ipython3",
   "version": "3.7.3"
  }
 },
 "nbformat": 4,
 "nbformat_minor": 2
}
